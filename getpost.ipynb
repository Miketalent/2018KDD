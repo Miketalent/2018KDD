{
 "cells": [
  {
   "cell_type": "code",
   "execution_count": 67,
   "metadata": {},
   "outputs": [
    {
     "name": "stderr",
     "output_type": "stream",
     "text": [
      "No encoding supplied: defaulting to UTF-8.\n"
     ]
    },
    {
     "name": "stdout",
     "output_type": "stream",
     "text": [
      "[1] \"Successfully write data from https://biendata.com/competition/airquality/bj/2018-05-29-0/2018-06-1-1/2k0d1d8 to file bj_airquality_latest.csv\"\n"
     ]
    },
    {
     "name": "stderr",
     "output_type": "stream",
     "text": [
      "No encoding supplied: defaulting to UTF-8.\n"
     ]
    },
    {
     "name": "stdout",
     "output_type": "stream",
     "text": [
      "[1] \"Successfully write data from https://biendata.com/competition/meteorology/bj_grid/2018-05-29-0/2018-06-1-1/2k0d1d8 to file bj_grid_meteorology_latest.csv\"\n"
     ]
    },
    {
     "name": "stderr",
     "output_type": "stream",
     "text": [
      "No encoding supplied: defaulting to UTF-8.\n"
     ]
    },
    {
     "name": "stdout",
     "output_type": "stream",
     "text": [
      "[1] \"Successfully write data from https://biendata.com/competition/meteorology/bj/2018-05-29-0/2018-06-1-1/2k0d1d8 to file bj_meteorology_latest.csv\"\n"
     ]
    },
    {
     "name": "stderr",
     "output_type": "stream",
     "text": [
      "No encoding supplied: defaulting to UTF-8.\n"
     ]
    },
    {
     "name": "stdout",
     "output_type": "stream",
     "text": [
      "[1] \"Successfully write data from https://biendata.com/competition/airquality/ld/2018-05-29-0/2018-06-1-1/2k0d1d8 to file ld_airquality_latest.csv\"\n"
     ]
    },
    {
     "name": "stderr",
     "output_type": "stream",
     "text": [
      "No encoding supplied: defaulting to UTF-8.\n"
     ]
    },
    {
     "name": "stdout",
     "output_type": "stream",
     "text": [
      "[1] \"Successfully write data from https://biendata.com/competition/meteorology/ld_grid/2018-05-29-0/2018-06-1-1/2k0d1d8 to file ld_grid_meteorology_latest.csv\"\n"
     ]
    }
   ],
   "source": [
    "# Check whether the necessary libraries are installed. \n",
    "setwd(\"/Users/Mithely/Desktop/KDD\")\n",
    "libraries_needed <- c(\"httr\")\n",
    "\n",
    "installed_packages <- installed.packages()\n",
    "\n",
    "for (lib in libraries_needed){\n",
    "  if (!(\"httr\" %in% installed_packages)){\n",
    "    install.packages(\"httr\")\n",
    "  }\n",
    "}\n",
    "\n",
    "\n",
    "library(httr)\n",
    "\n",
    "get_data_from_api <- function(base_url, api, city, start_time, end_time, token, output_file, trials=10){\n",
    "  full_url <- paste(base_url, api, city, start_time, end_time, token, sep=\"/\")\n",
    "  success <- FALSE\n",
    "  tried_times <- 0\n",
    "  while (!success & tried_times < trials){\n",
    "    response <- GET(full_url)\n",
    "    if (response$status_code == 200){\n",
    "      success <- TRUE\n",
    "      file_conn <- file(output_file)\n",
    "      response_content <- content(response)\n",
    "      if (nchar(response_content) <= 100){\n",
    "        print(paste(\"API \", full_url, \" returns empty. Return as failed.\", sep=\"\"))\n",
    "        return(-1)\n",
    "      }\n",
    "      writeLines(response_content, file_conn)\n",
    "      close(file_conn)\n",
    "      print(paste(\"Successfully write data from \", full_url, \" to file \", output_file, sep=\"\"))\n",
    "      return(0)\n",
    "    } else{\n",
    "      tried_times <- tried_times + 1\n",
    "    }\n",
    "    print(paste(\"Have tried the API \", full_url, \" for \", trials, \" times. Still failing. No data is retrieved.\"))\n",
    "    return(-1)\n",
    "  }\n",
    "}\n",
    "\n",
    "team_token <- \"a5ab81788475a8f79dfd44c3dc03d3d86e0556f35b4fbf258f94745b5cdbd50a\"\n",
    "data_token <- '2k0d1d8' # This is the ID applied to all participants to get the data. Do not change it.\n",
    "start_time <- '2018-05-29-0'\n",
    "end_time <- '2018-06-1-1'\n",
    "base_url <- \"https://biendata.com/competition\"\n",
    "aqi_url <- \"https://biendata.com/competition/airquality\"\n",
    "met_url <- \"https://biendata.com/competition/meteorology\"\n",
    "user_id <- \"Miketalent\"\n",
    "submission_url <- 'https://biendata.com/competition/kdd_2018_submit/'\n",
    "###################################################################\n",
    "# Main chunk of codes to download data from APIs to local csv files\n",
    "###################################################################\n",
    "cities = c('bj', 'ld')\n",
    "api_names <- c(\"airquality\", \"meteorology\")\n",
    "\n",
    "for (city in cities){\n",
    "  for (api in api_names){\n",
    "    if (api == \"meteorology\"){\n",
    "      city_1 <- paste(city, \"_grid\", sep=\"\")\n",
    "    } else{\n",
    "      city_1 <- city\n",
    "      \n",
    "    }\n",
    "    output_file <- paste(city_1, \"_\", api, \"_latest.csv\", sep=\"\")\n",
    "    result <- get_data_from_api(base_url, api, city_1, start_time, end_time, data_token, output_file)\n",
    "    # If it is Beijing, there is a third dataset available\n",
    "    if (city == 'bj' & api == 'meteorology'){\n",
    "      output_file <- paste(city, \"_\", api, \"_latest.csv\", sep=\"\")\n",
    "      result <- get_data_from_api(base_url, api, city, start_time, end_time, data_token, output_file)\n",
    "    }\n",
    "  }\n",
    "}"
   ]
  },
  {
   "cell_type": "code",
   "execution_count": null,
   "metadata": {},
   "outputs": [],
   "source": []
  },
  {
   "cell_type": "code",
   "execution_count": 43,
   "metadata": {},
   "outputs": [
    {
     "name": "stdout",
     "output_type": "stream",
     "text": [
      "[1] \"Forecasts successfully submitted for evaluation\"\n"
     ]
    }
   ],
   "source": [
    "############################################################\n",
    "# DO NOT EXECUTE THIS UNLESS READY TO SUBMIT!!!!!!!!!!!!!\n",
    "#\n",
    "#\n",
    "#\n",
    "##\n",
    "#\n",
    "###################################################################\n",
    "# Main chunk of codes to upload data to submission API for evaluation\n",
    "###################################################################\n",
    "forecasting_file <- \"/Users/Mithely/Desktop/KDD/UWDS420LiangTiaoMalax_submission_final.csv\"\n",
    "post_result <- POST(submission_url, body=list(files=upload_file(forecasting_file, type=\"text/csv\"), \n",
    "                                              user_id=user_id, \n",
    "                                              team_token=team_token,\n",
    "                                              description=\"0.5RF 0.1ets 0.3weather\",\n",
    "                                              filename=\"UWDS420LiangTiaoMalax_submission_final.csv\"))\n",
    "if (post_result$status_code == 200){\n",
    "  print(\"Forecasts successfully submitted for evaluation\")\n",
    "} else {\n",
    "  print(\"submission failed.\")\n",
    "}"
   ]
  },
  {
   "cell_type": "code",
   "execution_count": null,
   "metadata": {},
   "outputs": [],
   "source": []
  }
 ],
 "metadata": {
  "kernelspec": {
   "display_name": "R",
   "language": "R",
   "name": "ir"
  },
  "language_info": {
   "codemirror_mode": "r",
   "file_extension": ".r",
   "mimetype": "text/x-r-source",
   "name": "R",
   "pygments_lexer": "r",
   "version": "3.5.0"
  }
 },
 "nbformat": 4,
 "nbformat_minor": 2
}
