{
 "cells": [
  {
   "cell_type": "code",
   "execution_count": 42,
   "metadata": {},
   "outputs": [],
   "source": [
    "# Load the data from the csv files\n",
    "read.data = function(file = ''){\n",
    "  ## Read the csv file\n",
    "  air.quality <- read.csv(file, header = TRUE, \n",
    "                      stringsAsFactors = FALSE)\n",
    "}\n",
    "\n",
    "RF_Model_submission = read.data('UWDS420LiangTiaoMalax_submission_RF.csv')\n",
    "ETS_Model_submission = read.data('UWDS420LiangTiaoMalax_submission_ETS.csv')\n",
    "SVR_Model_submission = read.data('UWDS420LiangTiaoMalax_submission_SVR.csv')\n",
    "SVR_weather = read.data('UWDS420LiangTiaoMalax_submission_SVR_weather.csv')"
   ]
  },
  {
   "cell_type": "code",
   "execution_count": 43,
   "metadata": {},
   "outputs": [
    {
     "data": {
      "text/html": [
       "<table>\n",
       "<thead><tr><th></th><th scope=col>test_id</th><th scope=col>PM2.5</th><th scope=col>PM10</th><th scope=col>O3</th></tr></thead>\n",
       "<tbody>\n",
       "\t<tr><th scope=row>2299</th><td>TH4#42  </td><td>19.72988</td><td>36.75967</td><td>0       </td></tr>\n",
       "\t<tr><th scope=row>2300</th><td>TH4#43  </td><td>21.97533</td><td>38.76613</td><td>0       </td></tr>\n",
       "\t<tr><th scope=row>2301</th><td>TH4#44  </td><td>24.87547</td><td>42.23537</td><td>0       </td></tr>\n",
       "\t<tr><th scope=row>2302</th><td>TH4#45  </td><td>25.90413</td><td>40.20160</td><td>0       </td></tr>\n",
       "\t<tr><th scope=row>2303</th><td>TH4#46  </td><td>17.78419</td><td>32.54789</td><td>0       </td></tr>\n",
       "\t<tr><th scope=row>2304</th><td>TH4#47  </td><td>17.60957</td><td>30.21098</td><td>0       </td></tr>\n",
       "</tbody>\n",
       "</table>\n"
      ],
      "text/latex": [
       "\\begin{tabular}{r|llll}\n",
       "  & test\\_id & PM2.5 & PM10 & O3\\\\\n",
       "\\hline\n",
       "\t2299 & TH4\\#42 & 19.72988 & 36.75967 & 0       \\\\\n",
       "\t2300 & TH4\\#43 & 21.97533 & 38.76613 & 0       \\\\\n",
       "\t2301 & TH4\\#44 & 24.87547 & 42.23537 & 0       \\\\\n",
       "\t2302 & TH4\\#45 & 25.90413 & 40.20160 & 0       \\\\\n",
       "\t2303 & TH4\\#46 & 17.78419 & 32.54789 & 0       \\\\\n",
       "\t2304 & TH4\\#47 & 17.60957 & 30.21098 & 0       \\\\\n",
       "\\end{tabular}\n"
      ],
      "text/markdown": [
       "\n",
       "| <!--/--> | test_id | PM2.5 | PM10 | O3 | \n",
       "|---|---|---|---|---|---|\n",
       "| 2299 | TH4#42   | 19.72988 | 36.75967 | 0        | \n",
       "| 2300 | TH4#43   | 21.97533 | 38.76613 | 0        | \n",
       "| 2301 | TH4#44   | 24.87547 | 42.23537 | 0        | \n",
       "| 2302 | TH4#45   | 25.90413 | 40.20160 | 0        | \n",
       "| 2303 | TH4#46   | 17.78419 | 32.54789 | 0        | \n",
       "| 2304 | TH4#47   | 17.60957 | 30.21098 | 0        | \n",
       "\n",
       "\n"
      ],
      "text/plain": [
       "     test_id PM2.5    PM10     O3\n",
       "2299 TH4#42  19.72988 36.75967 0 \n",
       "2300 TH4#43  21.97533 38.76613 0 \n",
       "2301 TH4#44  24.87547 42.23537 0 \n",
       "2302 TH4#45  25.90413 40.20160 0 \n",
       "2303 TH4#46  17.78419 32.54789 0 \n",
       "2304 TH4#47  17.60957 30.21098 0 "
      ]
     },
     "metadata": {},
     "output_type": "display_data"
    }
   ],
   "source": [
    "tail(SVR_Model_submission)"
   ]
  },
  {
   "cell_type": "code",
   "execution_count": 44,
   "metadata": {},
   "outputs": [
    {
     "data": {
      "text/html": [
       "<table>\n",
       "<thead><tr><th></th><th scope=col>test_id</th><th scope=col>PM2.5</th><th scope=col>PM10</th><th scope=col>O3</th></tr></thead>\n",
       "<tbody>\n",
       "\t<tr><th scope=row>2299</th><td>TH4#42  </td><td>35.61372</td><td>43.35114</td><td>0       </td></tr>\n",
       "\t<tr><th scope=row>2300</th><td>TH4#43  </td><td>35.61627</td><td>43.35197</td><td>0       </td></tr>\n",
       "\t<tr><th scope=row>2301</th><td>TH4#44  </td><td>35.61883</td><td>43.35279</td><td>0       </td></tr>\n",
       "\t<tr><th scope=row>2302</th><td>TH4#45  </td><td>35.62138</td><td>43.35362</td><td>0       </td></tr>\n",
       "\t<tr><th scope=row>2303</th><td>TH4#46  </td><td>35.62393</td><td>43.35445</td><td>0       </td></tr>\n",
       "\t<tr><th scope=row>2304</th><td>TH4#47  </td><td>35.62649</td><td>43.35528</td><td>0       </td></tr>\n",
       "</tbody>\n",
       "</table>\n"
      ],
      "text/latex": [
       "\\begin{tabular}{r|llll}\n",
       "  & test\\_id & PM2.5 & PM10 & O3\\\\\n",
       "\\hline\n",
       "\t2299 & TH4\\#42 & 35.61372 & 43.35114 & 0       \\\\\n",
       "\t2300 & TH4\\#43 & 35.61627 & 43.35197 & 0       \\\\\n",
       "\t2301 & TH4\\#44 & 35.61883 & 43.35279 & 0       \\\\\n",
       "\t2302 & TH4\\#45 & 35.62138 & 43.35362 & 0       \\\\\n",
       "\t2303 & TH4\\#46 & 35.62393 & 43.35445 & 0       \\\\\n",
       "\t2304 & TH4\\#47 & 35.62649 & 43.35528 & 0       \\\\\n",
       "\\end{tabular}\n"
      ],
      "text/markdown": [
       "\n",
       "| <!--/--> | test_id | PM2.5 | PM10 | O3 | \n",
       "|---|---|---|---|---|---|\n",
       "| 2299 | TH4#42   | 35.61372 | 43.35114 | 0        | \n",
       "| 2300 | TH4#43   | 35.61627 | 43.35197 | 0        | \n",
       "| 2301 | TH4#44   | 35.61883 | 43.35279 | 0        | \n",
       "| 2302 | TH4#45   | 35.62138 | 43.35362 | 0        | \n",
       "| 2303 | TH4#46   | 35.62393 | 43.35445 | 0        | \n",
       "| 2304 | TH4#47   | 35.62649 | 43.35528 | 0        | \n",
       "\n",
       "\n"
      ],
      "text/plain": [
       "     test_id PM2.5    PM10     O3\n",
       "2299 TH4#42  35.61372 43.35114 0 \n",
       "2300 TH4#43  35.61627 43.35197 0 \n",
       "2301 TH4#44  35.61883 43.35279 0 \n",
       "2302 TH4#45  35.62138 43.35362 0 \n",
       "2303 TH4#46  35.62393 43.35445 0 \n",
       "2304 TH4#47  35.62649 43.35528 0 "
      ]
     },
     "metadata": {},
     "output_type": "display_data"
    }
   ],
   "source": [
    "tail(ETS_Model_submission)"
   ]
  },
  {
   "cell_type": "code",
   "execution_count": 45,
   "metadata": {},
   "outputs": [],
   "source": [
    "# Create dataframe that will hold the submission results\n",
    "submitData <- as.data.frame(matrix(nrow = 2304, ncol = 4))\n",
    "names(submitData) <- c(\"test_id\", \"PM2.5\", \"PM10\", \"O3\")"
   ]
  },
  {
   "cell_type": "code",
   "execution_count": 52,
   "metadata": {},
   "outputs": [],
   "source": [
    "w1 <- 0.5\n",
    "w2 <- 0.1\n",
    "w3 <- 0.3\n",
    "\n",
    "submitData$PM2.5 = RF_Model_submission$PM2.5*w1 + ETS_Model_submission$PM2.5*w2 + SVR_weather$PM2.5*w3\n",
    "#submitData$PM2.5 = ETS_Model_submission$PM2.5*0.2 + SVR_Model_submission$PM2.5*0.3\n",
    "submitData$PM10 = RF_Model_submission$PM10*w1 + ETS_Model_submission$PM10*w2 + SVR_weather$PM10*w3\n",
    "#submitData$PM10 = ETS_Model_submission$PM10*0.7 + SVR_Model_submission$PM10*0.3\n",
    "submitData$O3 = RF_Model_submission$O3*w1 + ETS_Model_submission$O3*w2 + SVR_weather$O3*w3\n",
    "#submitData$O3 = ETS_Model_submission$O3*0.7 + SVR_Model_submission$O3*0.3\n",
    "submitData$test_id = SVR_Model_submission$test_id"
   ]
  },
  {
   "cell_type": "code",
   "execution_count": 53,
   "metadata": {},
   "outputs": [],
   "source": [
    "write.csv(submitData, file = \"UWDS420LiangTiaoMalax_submission_final.csv\", row.names=FALSE)"
   ]
  },
  {
   "cell_type": "code",
   "execution_count": null,
   "metadata": {},
   "outputs": [],
   "source": []
  },
  {
   "cell_type": "code",
   "execution_count": null,
   "metadata": {},
   "outputs": [],
   "source": []
  }
 ],
 "metadata": {
  "kernelspec": {
   "display_name": "R",
   "language": "R",
   "name": "ir"
  },
  "language_info": {
   "codemirror_mode": "r",
   "file_extension": ".r",
   "mimetype": "text/x-r-source",
   "name": "R",
   "pygments_lexer": "r",
   "version": "3.5.0"
  }
 },
 "nbformat": 4,
 "nbformat_minor": 2
}
